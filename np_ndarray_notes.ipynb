{
  "nbformat": 4,
  "nbformat_minor": 0,
  "metadata": {
    "colab": {
      "name": "np.ndarray notes.ipynb",
      "provenance": [],
      "collapsed_sections": [],
      "toc_visible": true,
      "authorship_tag": "ABX9TyNjk3KQf98kA+cR3Zs+9eNX",
      "include_colab_link": true
    },
    "kernelspec": {
      "name": "python3",
      "display_name": "Python 3"
    }
  },
  "cells": [
    {
      "cell_type": "markdown",
      "metadata": {
        "id": "view-in-github",
        "colab_type": "text"
      },
      "source": [
        "<a href=\"https://colab.research.google.com/github/shawn-odonnell/hello-world/blob/master/np_ndarray_notes.ipynb\" target=\"_parent\"><img src=\"https://colab.research.google.com/assets/colab-badge.svg\" alt=\"Open In Colab\"/></a>"
      ]
    },
    {
      "cell_type": "markdown",
      "metadata": {
        "id": "bGPNADVhRR2x",
        "colab_type": "text"
      },
      "source": [
        "# numpy arrays\n",
        "Here are some exercises to remind myself what exactly they are and what the notation means"
      ]
    },
    {
      "cell_type": "code",
      "metadata": {
        "id": "LLn-zWuBet64",
        "colab_type": "code",
        "outputId": "8bc29a3a-1300-4e1a-a53a-1ebcc2499a96",
        "colab": {
          "base_uri": "https://localhost:8080/",
          "height": 51
        }
      },
      "source": [
        "from platform import python_version\n",
        "print(f\"Using python version {python_version()}\")\n",
        "import numpy as np\n",
        "print(f\"Using numpy version {np.__version__}\")"
      ],
      "execution_count": 0,
      "outputs": [
        {
          "output_type": "stream",
          "text": [
            "Using python version 3.6.9\n",
            "Using numpy version 1.17.5\n"
          ],
          "name": "stdout"
        }
      ]
    },
    {
      "cell_type": "code",
      "metadata": {
        "id": "l8oiyejofpNQ",
        "colab_type": "code",
        "outputId": "dc599395-72b8-4842-f646-ac632ce8e5a0",
        "colab": {
          "base_uri": "https://localhost:8080/",
          "height": 187
        }
      },
      "source": [
        "info = np.array([ [1, 2, 3], [4, 5, 6], [7, 8, 9] ])\n",
        "print(\"With the code \\\"info = np.array([ [1, 2, 3], [4, 5, 6], [7, 8, 9] ])\\\" you can create an array called \\'info\\'.\")\n",
        "print(f\"The type() of the array structure is {type(info)}\")\n",
        "print(\"Here's what that array looks like if you just print() it:\")\n",
        "print(info)\n",
        "print(f\"The '.shape' of the array is {info.shape}.\")\n",
        "print(f\"The number of dimensions, '.ndim', in the array is {info.ndim}.\")\n",
        "print(f\"The array takes up '.nbytes' bytes of memory: {info.nbytes}.\")\n",
        "print(f\"The .dtype of the array is {info.dtype}.\")\n"
      ],
      "execution_count": 0,
      "outputs": [
        {
          "output_type": "stream",
          "text": [
            "With the code \"info = np.array([ [1, 2, 3], [4, 5, 6], [7, 8, 9] ])\" you can create an array called 'info'.\n",
            "The type() of the array structure is <class 'numpy.ndarray'>\n",
            "Here's what that array looks like if you just print() it:\n",
            "[[1 2 3]\n",
            " [4 5 6]\n",
            " [7 8 9]]\n",
            "The '.shape' of the array is (3, 3).\n",
            "The number of dimensions, '.ndim', in the array is 2.\n",
            "The array takes up '.nbytes' bytes of memory: 72.\n",
            "The .dtype of the array is int64.\n"
          ],
          "name": "stdout"
        }
      ]
    },
    {
      "cell_type": "code",
      "metadata": {
        "id": "MfVo8vjYgDTX",
        "colab_type": "code",
        "outputId": "a3490b2b-1414-4902-d65c-12a48e7e2f2f",
        "colab": {
          "base_uri": "https://localhost:8080/",
          "height": 51
        }
      },
      "source": [
        "vector1 = np.array([1, 2, 3])\n",
        "vector2 = np.array([[1, 2, 3]])\n",
        "\n",
        "print(vector1.shape)\n",
        "print(vector2.shape)\n"
      ],
      "execution_count": 0,
      "outputs": [
        {
          "output_type": "stream",
          "text": [
            "(3,)\n",
            "(1, 3)\n"
          ],
          "name": "stdout"
        }
      ]
    },
    {
      "cell_type": "code",
      "metadata": {
        "id": "MmOEFznU261n",
        "colab_type": "code",
        "outputId": "8dc2700f-5e41-4df0-b3c1-314cb386a4a6",
        "colab": {
          "base_uri": "https://localhost:8080/",
          "height": 527
        }
      },
      "source": [
        "# creating a multidimensional array with random integers\n",
        "np.random.seed(0) # any seed will do; manual set makes results reproducible\n",
        "print(\"Making 'randArray' with code: \\\"randArray = np.random.randint(0, 10, size=(2, 5, 5))\\\".\")\n",
        "randArray = np.random.randint(0, 10, size=(2, 5, 5))\n",
        "print(f\"The type of 'randArray' is {type(randArray)}.\")\n",
        "print(f\"The shape of the array is {randArray.shape}.\")\n",
        "print(f\"The size of 'randArray' is {randArray.size} elements.\")\n",
        "print(f\"The elements of 'randArray' are of type {randArray.dtype}.\")\n",
        "print(f\"The total number of bytes taken up by 'randArray' ({randArray.nbytes}) is\\n\",\n",
        "      f\"the number of elements ({randArray.size}) times the size of each element ({randArray.itemsize}).\")\n",
        "print(f\"\\nAnd 'randArray' looks like this:\\n\")\n",
        "print(randArray)\n",
        "print(\"\\nLooking at selections from the array:\")\n",
        "print(f\"{randArray[1]}, which is of type {type(randArray[1])} and shape {randArray[1].shape}.\")\n",
        "print(f\"{randArray[1,1]}, which is of type {type(randArray[1,1])} and shape {randArray[1,1].shape}.\")\n",
        "print(f\"{randArray[1,1,2]}, which is of type {type(randArray[1,1,2])} and has no shape.\")"
      ],
      "execution_count": 0,
      "outputs": [
        {
          "output_type": "stream",
          "text": [
            "Making 'randArray' with code: \"randArray = np.random.randint(0, 10, size=(2, 5, 5))\".\n",
            "The type of 'randArray' is <class 'numpy.ndarray'>.\n",
            "The shape of the array is (2, 5, 5).\n",
            "The size of 'randArray' is 50 elements.\n",
            "The elements of 'randArray' are of type int64.\n",
            "The total number of bytes taken up by 'randArray' (400) is\n",
            " the number of elements (50) times the size of each element (8).\n",
            "\n",
            "And 'randArray' looks like this:\n",
            "\n",
            "[[[5 0 3 3 7]\n",
            "  [9 3 5 2 4]\n",
            "  [7 6 8 8 1]\n",
            "  [6 7 7 8 1]\n",
            "  [5 9 8 9 4]]\n",
            "\n",
            " [[3 0 3 5 0]\n",
            "  [2 3 8 1 3]\n",
            "  [3 3 7 0 1]\n",
            "  [9 9 0 4 7]\n",
            "  [3 2 7 2 0]]]\n",
            "\n",
            "Looking at selections from the array:\n",
            "[[3 0 3 5 0]\n",
            " [2 3 8 1 3]\n",
            " [3 3 7 0 1]\n",
            " [9 9 0 4 7]\n",
            " [3 2 7 2 0]], which is of type <class 'numpy.ndarray'> and shape (5, 5).\n",
            "[2 3 8 1 3], which is of type <class 'numpy.ndarray'> and shape (5,).\n",
            "8, which is of type <class 'numpy.int64'> and has no shape.\n"
          ],
          "name": "stdout"
        }
      ]
    },
    {
      "cell_type": "code",
      "metadata": {
        "id": "1nVXLfZv8JCr",
        "colab_type": "code",
        "outputId": "10e2d8fb-345f-4d79-bff2-69441bf612b7",
        "colab": {
          "base_uri": "https://localhost:8080/",
          "height": 340
        }
      },
      "source": [
        "# pick out just the center of the first subarray. That is, pull out\n",
        "# element 0 on the first index, and elements with indices 1 through 4-1 on \n",
        "# the other two dimensions\n",
        "randArray[0,1:4,1:4] \n",
        "# I can reshape the array \n",
        "newArray = randArray.reshape(5,2,5)\n",
        "print(newArray)\n",
        "offsizeArray = randArray.reshape((1, randArray.size))\n",
        "print(\"\\n\")\n",
        "print(offsizeArray)\n",
        "offsizeArray.shape\n",
        "offsizeArray[:,35]"
      ],
      "execution_count": 0,
      "outputs": [
        {
          "output_type": "stream",
          "text": [
            "[[[5 0 3 3 7]\n",
            "  [9 3 5 2 4]]\n",
            "\n",
            " [[7 6 8 8 1]\n",
            "  [6 7 7 8 1]]\n",
            "\n",
            " [[5 9 8 9 4]\n",
            "  [3 0 3 5 0]]\n",
            "\n",
            " [[2 3 8 1 3]\n",
            "  [3 3 7 0 1]]\n",
            "\n",
            " [[9 9 0 4 7]\n",
            "  [3 2 7 2 0]]]\n",
            "\n",
            "\n",
            "[[5 0 3 3 7 9 3 5 2 4 7 6 8 8 1 6 7 7 8 1 5 9 8 9 4 3 0 3 5 0 2 3 8 1 3 3\n",
            "  3 7 0 1 9 9 0 4 7 3 2 7 2 0]]\n"
          ],
          "name": "stdout"
        },
        {
          "output_type": "execute_result",
          "data": {
            "text/plain": [
              "array([3])"
            ]
          },
          "metadata": {
            "tags": []
          },
          "execution_count": 86
        }
      ]
    },
    {
      "cell_type": "markdown",
      "metadata": {
        "id": "sxy9NNY8P2m9",
        "colab_type": "text"
      },
      "source": [
        "## numpy.newaxis\n",
        "Adds dimensions, as in when you go from a one-dimensional array to a two-dimensional column vector or row vector."
      ]
    },
    {
      "cell_type": "code",
      "metadata": {
        "id": "d27y1IBgLvhS",
        "colab_type": "code",
        "outputId": "db3bcc34-99f4-474a-f669-77f966e1196e",
        "colab": {
          "base_uri": "https://localhost:8080/",
          "height": 255
        }
      },
      "source": [
        "a = np.array([1, 2, 3])\n",
        "print(f\"a is\\n{a}\")\n",
        "print(f\"a's shape is {a.shape}\")\n",
        "print(f\"a's dimensionality is {a.ndim}\")\n",
        "b = a[:, np.newaxis]\n",
        "print(f\"b is \\n{b}\")\n",
        "print(f\"b's shape is {b.shape}\")\n",
        "print(f\"b's dimensionality is {b.ndim}\")\n",
        "c = a[np.newaxis,:]\n",
        "print(f\"c is \\n{c}\")\n",
        "print(f\"c's shape is {c.shape}\")\n",
        "print(f\"c's dimensionality is {c.ndim}\")"
      ],
      "execution_count": 0,
      "outputs": [
        {
          "output_type": "stream",
          "text": [
            "a is\n",
            "[1 2 3]\n",
            "a's shape is (3,)\n",
            "a's dimensionality is 1\n",
            "b is \n",
            "[[1]\n",
            " [2]\n",
            " [3]]\n",
            "b's shape is (3, 1)\n",
            "b's dimensionality is 2\n",
            "c is \n",
            "[[1 2 3]]\n",
            "c's shape is (1, 3)\n",
            "c's dimensionality is 2\n"
          ],
          "name": "stdout"
        }
      ]
    }
  ]
}